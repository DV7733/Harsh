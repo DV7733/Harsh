{
 "cells": [
  {
   "cell_type": "code",
   "execution_count": 1,
   "id": "0d534b32",
   "metadata": {},
   "outputs": [],
   "source": [
    "import pandas as pd\n",
    "import numpy as np\n",
    "import matplotlib.pyplot as plt\n",
    "%matplotlib inline"
   ]
  },
  {
   "cell_type": "markdown",
   "id": "51e2a7de",
   "metadata": {},
   "source": [
    "## import data"
   ]
  },
  {
   "cell_type": "code",
   "execution_count": 2,
   "id": "24f24bac",
   "metadata": {},
   "outputs": [
    {
     "data": {
      "text/html": [
       "<div>\n",
       "<style scoped>\n",
       "    .dataframe tbody tr th:only-of-type {\n",
       "        vertical-align: middle;\n",
       "    }\n",
       "\n",
       "    .dataframe tbody tr th {\n",
       "        vertical-align: top;\n",
       "    }\n",
       "\n",
       "    .dataframe thead th {\n",
       "        text-align: right;\n",
       "    }\n",
       "</style>\n",
       "<table border=\"1\" class=\"dataframe\">\n",
       "  <thead>\n",
       "    <tr style=\"text-align: right;\">\n",
       "      <th></th>\n",
       "      <th>buying</th>\n",
       "      <th>maint</th>\n",
       "      <th>doors</th>\n",
       "      <th>persons</th>\n",
       "      <th>lug_boot</th>\n",
       "      <th>safety</th>\n",
       "      <th>class_values</th>\n",
       "    </tr>\n",
       "  </thead>\n",
       "  <tbody>\n",
       "    <tr>\n",
       "      <th>0</th>\n",
       "      <td>vhigh</td>\n",
       "      <td>vhigh</td>\n",
       "      <td>2</td>\n",
       "      <td>2</td>\n",
       "      <td>small</td>\n",
       "      <td>low</td>\n",
       "      <td>unacc</td>\n",
       "    </tr>\n",
       "    <tr>\n",
       "      <th>1</th>\n",
       "      <td>vhigh</td>\n",
       "      <td>vhigh</td>\n",
       "      <td>2</td>\n",
       "      <td>2</td>\n",
       "      <td>small</td>\n",
       "      <td>med</td>\n",
       "      <td>unacc</td>\n",
       "    </tr>\n",
       "    <tr>\n",
       "      <th>2</th>\n",
       "      <td>vhigh</td>\n",
       "      <td>vhigh</td>\n",
       "      <td>2</td>\n",
       "      <td>2</td>\n",
       "      <td>small</td>\n",
       "      <td>high</td>\n",
       "      <td>unacc</td>\n",
       "    </tr>\n",
       "    <tr>\n",
       "      <th>3</th>\n",
       "      <td>vhigh</td>\n",
       "      <td>vhigh</td>\n",
       "      <td>2</td>\n",
       "      <td>2</td>\n",
       "      <td>med</td>\n",
       "      <td>low</td>\n",
       "      <td>unacc</td>\n",
       "    </tr>\n",
       "    <tr>\n",
       "      <th>4</th>\n",
       "      <td>vhigh</td>\n",
       "      <td>vhigh</td>\n",
       "      <td>2</td>\n",
       "      <td>2</td>\n",
       "      <td>med</td>\n",
       "      <td>med</td>\n",
       "      <td>unacc</td>\n",
       "    </tr>\n",
       "    <tr>\n",
       "      <th>...</th>\n",
       "      <td>...</td>\n",
       "      <td>...</td>\n",
       "      <td>...</td>\n",
       "      <td>...</td>\n",
       "      <td>...</td>\n",
       "      <td>...</td>\n",
       "      <td>...</td>\n",
       "    </tr>\n",
       "    <tr>\n",
       "      <th>1723</th>\n",
       "      <td>low</td>\n",
       "      <td>low</td>\n",
       "      <td>5more</td>\n",
       "      <td>more</td>\n",
       "      <td>med</td>\n",
       "      <td>med</td>\n",
       "      <td>good</td>\n",
       "    </tr>\n",
       "    <tr>\n",
       "      <th>1724</th>\n",
       "      <td>low</td>\n",
       "      <td>low</td>\n",
       "      <td>5more</td>\n",
       "      <td>more</td>\n",
       "      <td>med</td>\n",
       "      <td>high</td>\n",
       "      <td>vgood</td>\n",
       "    </tr>\n",
       "    <tr>\n",
       "      <th>1725</th>\n",
       "      <td>low</td>\n",
       "      <td>low</td>\n",
       "      <td>5more</td>\n",
       "      <td>more</td>\n",
       "      <td>big</td>\n",
       "      <td>low</td>\n",
       "      <td>unacc</td>\n",
       "    </tr>\n",
       "    <tr>\n",
       "      <th>1726</th>\n",
       "      <td>low</td>\n",
       "      <td>low</td>\n",
       "      <td>5more</td>\n",
       "      <td>more</td>\n",
       "      <td>big</td>\n",
       "      <td>med</td>\n",
       "      <td>good</td>\n",
       "    </tr>\n",
       "    <tr>\n",
       "      <th>1727</th>\n",
       "      <td>low</td>\n",
       "      <td>low</td>\n",
       "      <td>5more</td>\n",
       "      <td>more</td>\n",
       "      <td>big</td>\n",
       "      <td>high</td>\n",
       "      <td>vgood</td>\n",
       "    </tr>\n",
       "  </tbody>\n",
       "</table>\n",
       "<p>1728 rows × 7 columns</p>\n",
       "</div>"
      ],
      "text/plain": [
       "     buying  maint  doors persons lug_boot safety class_values\n",
       "0     vhigh  vhigh      2       2    small    low        unacc\n",
       "1     vhigh  vhigh      2       2    small    med        unacc\n",
       "2     vhigh  vhigh      2       2    small   high        unacc\n",
       "3     vhigh  vhigh      2       2      med    low        unacc\n",
       "4     vhigh  vhigh      2       2      med    med        unacc\n",
       "...     ...    ...    ...     ...      ...    ...          ...\n",
       "1723    low    low  5more    more      med    med         good\n",
       "1724    low    low  5more    more      med   high        vgood\n",
       "1725    low    low  5more    more      big    low        unacc\n",
       "1726    low    low  5more    more      big    med         good\n",
       "1727    low    low  5more    more      big   high        vgood\n",
       "\n",
       "[1728 rows x 7 columns]"
      ]
     },
     "execution_count": 2,
     "metadata": {},
     "output_type": "execute_result"
    }
   ],
   "source": [
    "column = ['buying','maint','doors','persons','lug_boot','safety','class_values']\n",
    "data =  pd.read_csv('car.data',names = column)\n",
    "data"
   ]
  },
  {
   "cell_type": "markdown",
   "id": "042c2dc6",
   "metadata": {},
   "source": [
    "# cheking of missing values"
   ]
  },
  {
   "cell_type": "code",
   "execution_count": 3,
   "id": "43053690",
   "metadata": {},
   "outputs": [
    {
     "name": "stdout",
     "output_type": "stream",
     "text": [
      "buying          False\n",
      "maint           False\n",
      "doors           False\n",
      "persons         False\n",
      "lug_boot        False\n",
      "safety          False\n",
      "class_values    False\n",
      "dtype: bool\n"
     ]
    },
    {
     "data": {
      "text/html": [
       "<div>\n",
       "<style scoped>\n",
       "    .dataframe tbody tr th:only-of-type {\n",
       "        vertical-align: middle;\n",
       "    }\n",
       "\n",
       "    .dataframe tbody tr th {\n",
       "        vertical-align: top;\n",
       "    }\n",
       "\n",
       "    .dataframe thead th {\n",
       "        text-align: right;\n",
       "    }\n",
       "</style>\n",
       "<table border=\"1\" class=\"dataframe\">\n",
       "  <thead>\n",
       "    <tr style=\"text-align: right;\">\n",
       "      <th></th>\n",
       "      <th>buying</th>\n",
       "      <th>maint</th>\n",
       "      <th>doors</th>\n",
       "      <th>persons</th>\n",
       "      <th>lug_boot</th>\n",
       "      <th>safety</th>\n",
       "      <th>class_values</th>\n",
       "    </tr>\n",
       "  </thead>\n",
       "  <tbody>\n",
       "    <tr>\n",
       "      <th>0</th>\n",
       "      <td>NaN</td>\n",
       "      <td>NaN</td>\n",
       "      <td>NaN</td>\n",
       "      <td>NaN</td>\n",
       "      <td>NaN</td>\n",
       "      <td>NaN</td>\n",
       "      <td>NaN</td>\n",
       "    </tr>\n",
       "    <tr>\n",
       "      <th>1</th>\n",
       "      <td>NaN</td>\n",
       "      <td>NaN</td>\n",
       "      <td>NaN</td>\n",
       "      <td>NaN</td>\n",
       "      <td>NaN</td>\n",
       "      <td>NaN</td>\n",
       "      <td>NaN</td>\n",
       "    </tr>\n",
       "    <tr>\n",
       "      <th>2</th>\n",
       "      <td>NaN</td>\n",
       "      <td>NaN</td>\n",
       "      <td>NaN</td>\n",
       "      <td>NaN</td>\n",
       "      <td>NaN</td>\n",
       "      <td>NaN</td>\n",
       "      <td>NaN</td>\n",
       "    </tr>\n",
       "    <tr>\n",
       "      <th>3</th>\n",
       "      <td>NaN</td>\n",
       "      <td>NaN</td>\n",
       "      <td>NaN</td>\n",
       "      <td>NaN</td>\n",
       "      <td>NaN</td>\n",
       "      <td>NaN</td>\n",
       "      <td>NaN</td>\n",
       "    </tr>\n",
       "    <tr>\n",
       "      <th>4</th>\n",
       "      <td>NaN</td>\n",
       "      <td>NaN</td>\n",
       "      <td>NaN</td>\n",
       "      <td>NaN</td>\n",
       "      <td>NaN</td>\n",
       "      <td>NaN</td>\n",
       "      <td>NaN</td>\n",
       "    </tr>\n",
       "  </tbody>\n",
       "</table>\n",
       "</div>"
      ],
      "text/plain": [
       "  buying maint doors persons lug_boot safety class_values\n",
       "0    NaN   NaN   NaN     NaN      NaN    NaN          NaN\n",
       "1    NaN   NaN   NaN     NaN      NaN    NaN          NaN\n",
       "2    NaN   NaN   NaN     NaN      NaN    NaN          NaN\n",
       "3    NaN   NaN   NaN     NaN      NaN    NaN          NaN\n",
       "4    NaN   NaN   NaN     NaN      NaN    NaN          NaN"
      ]
     },
     "execution_count": 3,
     "metadata": {},
     "output_type": "execute_result"
    }
   ],
   "source": [
    "print(data.isna().any())\n",
    "\n",
    "data[data.isna()].head(5)"
   ]
  },
  {
   "cell_type": "markdown",
   "id": "ba5212db",
   "metadata": {},
   "source": [
    "## checking of duplicate values"
   ]
  },
  {
   "cell_type": "code",
   "execution_count": 4,
   "id": "e596f06e",
   "metadata": {},
   "outputs": [
    {
     "name": "stdout",
     "output_type": "stream",
     "text": [
      "False\n"
     ]
    },
    {
     "data": {
      "text/html": [
       "<div>\n",
       "<style scoped>\n",
       "    .dataframe tbody tr th:only-of-type {\n",
       "        vertical-align: middle;\n",
       "    }\n",
       "\n",
       "    .dataframe tbody tr th {\n",
       "        vertical-align: top;\n",
       "    }\n",
       "\n",
       "    .dataframe thead th {\n",
       "        text-align: right;\n",
       "    }\n",
       "</style>\n",
       "<table border=\"1\" class=\"dataframe\">\n",
       "  <thead>\n",
       "    <tr style=\"text-align: right;\">\n",
       "      <th></th>\n",
       "      <th>buying</th>\n",
       "      <th>maint</th>\n",
       "      <th>doors</th>\n",
       "      <th>persons</th>\n",
       "      <th>lug_boot</th>\n",
       "      <th>safety</th>\n",
       "      <th>class_values</th>\n",
       "    </tr>\n",
       "  </thead>\n",
       "  <tbody>\n",
       "  </tbody>\n",
       "</table>\n",
       "</div>"
      ],
      "text/plain": [
       "Empty DataFrame\n",
       "Columns: [buying, maint, doors, persons, lug_boot, safety, class_values]\n",
       "Index: []"
      ]
     },
     "execution_count": 4,
     "metadata": {},
     "output_type": "execute_result"
    }
   ],
   "source": [
    "print(data.duplicated().any())\n",
    "\n",
    "data[data.duplicated()]"
   ]
  },
  {
   "cell_type": "markdown",
   "id": "a9e2a367",
   "metadata": {},
   "source": [
    "#### as we can say here is so manny duplicate values but it does not effect our model"
   ]
  },
  {
   "cell_type": "markdown",
   "id": "101abbce",
   "metadata": {},
   "source": [
    "## data analysics"
   ]
  },
  {
   "cell_type": "markdown",
   "id": "391a00da",
   "metadata": {},
   "source": [
    "### now we plot bar chart for some columns"
   ]
  },
  {
   "cell_type": "code",
   "execution_count": 5,
   "id": "17902e6c",
   "metadata": {
    "scrolled": true
   },
   "outputs": [
    {
     "data": {
      "text/plain": [
       "<BarContainer object of 1728 artists>"
      ]
     },
     "execution_count": 5,
     "metadata": {},
     "output_type": "execute_result"
    },
    {
     "data": {
      "image/png": "[encoded data removed]",
      "text/plain": [
       "<Figure size 432x288 with 1 Axes>"
      ]
     },
     "metadata": {
      "needs_background": "light"
     },
     "output_type": "display_data"
    }
   ],
   "source": [
    "plt.bar(data.buying,data['class_values'])"
   ]
  },
  {
   "cell_type": "code",
   "execution_count": 6,
   "id": "6d60c357",
   "metadata": {},
   "outputs": [
    {
     "name": "stdout",
     "output_type": "stream",
     "text": [
      "<BarContainer object of 1728 artists>\n"
     ]
    },
    {
     "data": {
      "image/png": "[encoded data removed]",
      "text/plain": [
       "<Figure size 432x288 with 1 Axes>"
      ]
     },
     "metadata": {
      "needs_background": "light"
     },
     "output_type": "display_data"
    }
   ],
   "source": [
    "print(plt.bar(data.persons,data['class_values']))"
   ]
  },
  {
   "cell_type": "code",
   "execution_count": 7,
   "id": "0a05b76c",
   "metadata": {},
   "outputs": [
    {
     "name": "stdout",
     "output_type": "stream",
     "text": [
      "<BarContainer object of 1728 artists>\n"
     ]
    },
    {
     "data": {
      "image/png": "[encoded data removed]",
      "text/plain": [
       "<Figure size 432x288 with 1 Axes>"
      ]
     },
     "metadata": {
      "needs_background": "light"
     },
     "output_type": "display_data"
    }
   ],
   "source": [
    "print(plt.bar(data.doors,data['class_values']))\n"
   ]
  },
  {
   "cell_type": "code",
   "execution_count": 8,
   "id": "7cceef58",
   "metadata": {},
   "outputs": [
    {
     "name": "stdout",
     "output_type": "stream",
     "text": [
      "<BarContainer object of 1728 artists>\n"
     ]
    },
    {
     "data": {
      "image/png": "[encoded data removed]",
      "text/plain": [
       "<Figure size 432x288 with 1 Axes>"
      ]
     },
     "metadata": {
      "needs_background": "light"
     },
     "output_type": "display_data"
    }
   ],
   "source": [
    "print(plt.bar(data.lug_boot,data['class_values']))"
   ]
  },
  {
   "cell_type": "code",
   "execution_count": 9,
   "id": "7289eaed",
   "metadata": {},
   "outputs": [
    {
     "name": "stdout",
     "output_type": "stream",
     "text": [
      "<BarContainer object of 1728 artists>\n"
     ]
    },
    {
     "data": {
      "image/png": "[encoded data removed]",
      "text/plain": [
       "<Figure size 432x288 with 1 Axes>"
      ]
     },
     "metadata": {
      "needs_background": "light"
     },
     "output_type": "display_data"
    }
   ],
   "source": [
    "print(plt.bar(data.safety,data['class_values']))"
   ]
  },
  {
   "cell_type": "markdown",
   "id": "e5d8760d",
   "metadata": {},
   "source": [
    "### now we assume that car price is depend on car class_values so we have to predicate car safety first"
   ]
  },
  {
   "cell_type": "markdown",
   "id": "adfe2adf",
   "metadata": {},
   "source": [
    "### For that we use some models\n",
    "1. regression\n",
    "2. KNN\n",
    "3. Decision tree\n",
    "4. SVM"
   ]
  },
  {
   "cell_type": "markdown",
   "id": "2f0c3987",
   "metadata": {},
   "source": [
    "## devide data in train and test data"
   ]
  },
  {
   "cell_type": "markdown",
   "id": "628fcd52",
   "metadata": {},
   "source": [
    "#### convert string into int "
   ]
  },
  {
   "cell_type": "markdown",
   "id": "70c36e54",
   "metadata": {},
   "source": [
    "## dummies"
   ]
  },
  {
   "cell_type": "code",
   "execution_count": 10,
   "id": "a2601a24",
   "metadata": {},
   "outputs": [],
   "source": [
    "#data['buying'] = pd.get_dummies(data.buying).iloc[:,1:]\n",
    "#.\n",
    "#.\n",
    "#.\n",
    "#.\n",
    "#data['persons'] = pd.get_dummies(data.persons).iloc[:,1:]"
   ]
  },
  {
   "cell_type": "markdown",
   "id": "c8cc776e",
   "metadata": {},
   "source": [
    "## labelencoder"
   ]
  },
  {
   "cell_type": "code",
   "execution_count": 11,
   "id": "6c35343c",
   "metadata": {},
   "outputs": [],
   "source": [
    "from sklearn import preprocessing\n",
    "la = preprocessing.LabelEncoder()"
   ]
  },
  {
   "cell_type": "code",
   "execution_count": 12,
   "id": "3a671b70",
   "metadata": {},
   "outputs": [
    {
     "data": {
      "text/html": [
       "<div>\n",
       "<style scoped>\n",
       "    .dataframe tbody tr th:only-of-type {\n",
       "        vertical-align: middle;\n",
       "    }\n",
       "\n",
       "    .dataframe tbody tr th {\n",
       "        vertical-align: top;\n",
       "    }\n",
       "\n",
       "    .dataframe thead th {\n",
       "        text-align: right;\n",
       "    }\n",
       "</style>\n",
       "<table border=\"1\" class=\"dataframe\">\n",
       "  <thead>\n",
       "    <tr style=\"text-align: right;\">\n",
       "      <th></th>\n",
       "      <th>buying</th>\n",
       "      <th>maint</th>\n",
       "      <th>doors</th>\n",
       "      <th>persons</th>\n",
       "      <th>lug_boot</th>\n",
       "      <th>safety</th>\n",
       "      <th>class_values</th>\n",
       "    </tr>\n",
       "  </thead>\n",
       "  <tbody>\n",
       "    <tr>\n",
       "      <th>0</th>\n",
       "      <td>3</td>\n",
       "      <td>3</td>\n",
       "      <td>0</td>\n",
       "      <td>0</td>\n",
       "      <td>2</td>\n",
       "      <td>1</td>\n",
       "      <td>2</td>\n",
       "    </tr>\n",
       "    <tr>\n",
       "      <th>1</th>\n",
       "      <td>3</td>\n",
       "      <td>3</td>\n",
       "      <td>0</td>\n",
       "      <td>0</td>\n",
       "      <td>2</td>\n",
       "      <td>2</td>\n",
       "      <td>2</td>\n",
       "    </tr>\n",
       "    <tr>\n",
       "      <th>2</th>\n",
       "      <td>3</td>\n",
       "      <td>3</td>\n",
       "      <td>0</td>\n",
       "      <td>0</td>\n",
       "      <td>2</td>\n",
       "      <td>0</td>\n",
       "      <td>2</td>\n",
       "    </tr>\n",
       "    <tr>\n",
       "      <th>3</th>\n",
       "      <td>3</td>\n",
       "      <td>3</td>\n",
       "      <td>0</td>\n",
       "      <td>0</td>\n",
       "      <td>1</td>\n",
       "      <td>1</td>\n",
       "      <td>2</td>\n",
       "    </tr>\n",
       "    <tr>\n",
       "      <th>4</th>\n",
       "      <td>3</td>\n",
       "      <td>3</td>\n",
       "      <td>0</td>\n",
       "      <td>0</td>\n",
       "      <td>1</td>\n",
       "      <td>2</td>\n",
       "      <td>2</td>\n",
       "    </tr>\n",
       "    <tr>\n",
       "      <th>...</th>\n",
       "      <td>...</td>\n",
       "      <td>...</td>\n",
       "      <td>...</td>\n",
       "      <td>...</td>\n",
       "      <td>...</td>\n",
       "      <td>...</td>\n",
       "      <td>...</td>\n",
       "    </tr>\n",
       "    <tr>\n",
       "      <th>1723</th>\n",
       "      <td>1</td>\n",
       "      <td>1</td>\n",
       "      <td>3</td>\n",
       "      <td>2</td>\n",
       "      <td>1</td>\n",
       "      <td>2</td>\n",
       "      <td>1</td>\n",
       "    </tr>\n",
       "    <tr>\n",
       "      <th>1724</th>\n",
       "      <td>1</td>\n",
       "      <td>1</td>\n",
       "      <td>3</td>\n",
       "      <td>2</td>\n",
       "      <td>1</td>\n",
       "      <td>0</td>\n",
       "      <td>3</td>\n",
       "    </tr>\n",
       "    <tr>\n",
       "      <th>1725</th>\n",
       "      <td>1</td>\n",
       "      <td>1</td>\n",
       "      <td>3</td>\n",
       "      <td>2</td>\n",
       "      <td>0</td>\n",
       "      <td>1</td>\n",
       "      <td>2</td>\n",
       "    </tr>\n",
       "    <tr>\n",
       "      <th>1726</th>\n",
       "      <td>1</td>\n",
       "      <td>1</td>\n",
       "      <td>3</td>\n",
       "      <td>2</td>\n",
       "      <td>0</td>\n",
       "      <td>2</td>\n",
       "      <td>1</td>\n",
       "    </tr>\n",
       "    <tr>\n",
       "      <th>1727</th>\n",
       "      <td>1</td>\n",
       "      <td>1</td>\n",
       "      <td>3</td>\n",
       "      <td>2</td>\n",
       "      <td>0</td>\n",
       "      <td>0</td>\n",
       "      <td>3</td>\n",
       "    </tr>\n",
       "  </tbody>\n",
       "</table>\n",
       "<p>1728 rows × 7 columns</p>\n",
       "</div>"
      ],
      "text/plain": [
       "      buying  maint  doors  persons  lug_boot  safety  class_values\n",
       "0          3      3      0        0         2       1             2\n",
       "1          3      3      0        0         2       2             2\n",
       "2          3      3      0        0         2       0             2\n",
       "3          3      3      0        0         1       1             2\n",
       "4          3      3      0        0         1       2             2\n",
       "...      ...    ...    ...      ...       ...     ...           ...\n",
       "1723       1      1      3        2         1       2             1\n",
       "1724       1      1      3        2         1       0             3\n",
       "1725       1      1      3        2         0       1             2\n",
       "1726       1      1      3        2         0       2             1\n",
       "1727       1      1      3        2         0       0             3\n",
       "\n",
       "[1728 rows x 7 columns]"
      ]
     },
     "execution_count": 12,
     "metadata": {},
     "output_type": "execute_result"
    }
   ],
   "source": [
    "data[\"buying\"] = la.fit_transform(data.buying)\n",
    "data[\"maint\"] = la.fit_transform(data.maint)\n",
    "data[\"persons\"] = la.fit_transform(data.persons)\n",
    "data[\"doors\"] = la.fit_transform(data.doors)\n",
    "data[\"safety\"] = la.fit_transform(data.safety)\n",
    "data[\"lug_boot\"] = la.fit_transform(data.lug_boot)\n",
    "data[\"class_values\"] = la.fit_transform(data.class_values)\n",
    "data"
   ]
  },
  {
   "cell_type": "markdown",
   "id": "47272225",
   "metadata": {},
   "source": [
    "### This labelencoder method is more accurate than any othe so we use this"
   ]
  },
  {
   "cell_type": "markdown",
   "id": "d5c93b55",
   "metadata": {},
   "source": [
    "## making our train and test data"
   ]
  },
  {
   "cell_type": "code",
   "execution_count": 13,
   "id": "177781fe",
   "metadata": {},
   "outputs": [],
   "source": [
    "x = data.drop('class_values',axis=1)\n",
    "y  = data.class_values"
   ]
  },
  {
   "cell_type": "code",
   "execution_count": 14,
   "id": "2a4ec5c3",
   "metadata": {},
   "outputs": [
    {
     "data": {
      "text/html": [
       "<div>\n",
       "<style scoped>\n",
       "    .dataframe tbody tr th:only-of-type {\n",
       "        vertical-align: middle;\n",
       "    }\n",
       "\n",
       "    .dataframe tbody tr th {\n",
       "        vertical-align: top;\n",
       "    }\n",
       "\n",
       "    .dataframe thead th {\n",
       "        text-align: right;\n",
       "    }\n",
       "</style>\n",
       "<table border=\"1\" class=\"dataframe\">\n",
       "  <thead>\n",
       "    <tr style=\"text-align: right;\">\n",
       "      <th></th>\n",
       "      <th>buying</th>\n",
       "      <th>maint</th>\n",
       "      <th>doors</th>\n",
       "      <th>persons</th>\n",
       "      <th>lug_boot</th>\n",
       "      <th>safety</th>\n",
       "    </tr>\n",
       "  </thead>\n",
       "  <tbody>\n",
       "    <tr>\n",
       "      <th>736</th>\n",
       "      <td>0</td>\n",
       "      <td>2</td>\n",
       "      <td>3</td>\n",
       "      <td>0</td>\n",
       "      <td>0</td>\n",
       "      <td>2</td>\n",
       "    </tr>\n",
       "    <tr>\n",
       "      <th>283</th>\n",
       "      <td>3</td>\n",
       "      <td>2</td>\n",
       "      <td>2</td>\n",
       "      <td>1</td>\n",
       "      <td>1</td>\n",
       "      <td>2</td>\n",
       "    </tr>\n",
       "    <tr>\n",
       "      <th>246</th>\n",
       "      <td>3</td>\n",
       "      <td>2</td>\n",
       "      <td>1</td>\n",
       "      <td>0</td>\n",
       "      <td>1</td>\n",
       "      <td>1</td>\n",
       "    </tr>\n",
       "    <tr>\n",
       "      <th>1123</th>\n",
       "      <td>2</td>\n",
       "      <td>2</td>\n",
       "      <td>1</td>\n",
       "      <td>1</td>\n",
       "      <td>0</td>\n",
       "      <td>2</td>\n",
       "    </tr>\n",
       "    <tr>\n",
       "      <th>987</th>\n",
       "      <td>2</td>\n",
       "      <td>0</td>\n",
       "      <td>0</td>\n",
       "      <td>1</td>\n",
       "      <td>0</td>\n",
       "      <td>1</td>\n",
       "    </tr>\n",
       "    <tr>\n",
       "      <th>...</th>\n",
       "      <td>...</td>\n",
       "      <td>...</td>\n",
       "      <td>...</td>\n",
       "      <td>...</td>\n",
       "      <td>...</td>\n",
       "      <td>...</td>\n",
       "    </tr>\n",
       "    <tr>\n",
       "      <th>633</th>\n",
       "      <td>0</td>\n",
       "      <td>0</td>\n",
       "      <td>3</td>\n",
       "      <td>1</td>\n",
       "      <td>1</td>\n",
       "      <td>1</td>\n",
       "    </tr>\n",
       "    <tr>\n",
       "      <th>1097</th>\n",
       "      <td>2</td>\n",
       "      <td>2</td>\n",
       "      <td>0</td>\n",
       "      <td>1</td>\n",
       "      <td>0</td>\n",
       "      <td>0</td>\n",
       "    </tr>\n",
       "    <tr>\n",
       "      <th>1028</th>\n",
       "      <td>2</td>\n",
       "      <td>0</td>\n",
       "      <td>2</td>\n",
       "      <td>0</td>\n",
       "      <td>2</td>\n",
       "      <td>0</td>\n",
       "    </tr>\n",
       "    <tr>\n",
       "      <th>609</th>\n",
       "      <td>0</td>\n",
       "      <td>0</td>\n",
       "      <td>2</td>\n",
       "      <td>1</td>\n",
       "      <td>0</td>\n",
       "      <td>1</td>\n",
       "    </tr>\n",
       "    <tr>\n",
       "      <th>1003</th>\n",
       "      <td>2</td>\n",
       "      <td>0</td>\n",
       "      <td>1</td>\n",
       "      <td>0</td>\n",
       "      <td>1</td>\n",
       "      <td>2</td>\n",
       "    </tr>\n",
       "  </tbody>\n",
       "</table>\n",
       "<p>1382 rows × 6 columns</p>\n",
       "</div>"
      ],
      "text/plain": [
       "      buying  maint  doors  persons  lug_boot  safety\n",
       "736        0      2      3        0         0       2\n",
       "283        3      2      2        1         1       2\n",
       "246        3      2      1        0         1       1\n",
       "1123       2      2      1        1         0       2\n",
       "987        2      0      0        1         0       1\n",
       "...      ...    ...    ...      ...       ...     ...\n",
       "633        0      0      3        1         1       1\n",
       "1097       2      2      0        1         0       0\n",
       "1028       2      0      2        0         2       0\n",
       "609        0      0      2        1         0       1\n",
       "1003       2      0      1        0         1       2\n",
       "\n",
       "[1382 rows x 6 columns]"
      ]
     },
     "execution_count": 14,
     "metadata": {},
     "output_type": "execute_result"
    }
   ],
   "source": [
    "from sklearn.model_selection import train_test_split\n",
    "x_train, x_test , y_train, y_test = train_test_split(x,y,test_size = 0.2)\n",
    "x_train"
   ]
  },
  {
   "cell_type": "markdown",
   "id": "abbc7ada",
   "metadata": {},
   "source": [
    "## model 1 linear regression"
   ]
  },
  {
   "cell_type": "code",
   "execution_count": 15,
   "id": "e4ea6a6d",
   "metadata": {},
   "outputs": [],
   "source": [
    "from sklearn.linear_model import LinearRegression\n",
    "ln = LinearRegression(fit_intercept=False,positive=True)"
   ]
  },
  {
   "cell_type": "code",
   "execution_count": 16,
   "id": "31848c9f",
   "metadata": {},
   "outputs": [
    {
     "data": {
      "text/plain": [
       "LinearRegression(fit_intercept=False, positive=True)"
      ]
     },
     "execution_count": 16,
     "metadata": {},
     "output_type": "execute_result"
    }
   ],
   "source": [
    "ln.fit(x_train,y_train)"
   ]
  },
  {
   "cell_type": "code",
   "execution_count": 17,
   "id": "7dadd211",
   "metadata": {},
   "outputs": [],
   "source": [
    "predicated = ln.predict(x_test)"
   ]
  },
  {
   "cell_type": "code",
   "execution_count": 18,
   "id": "b48ba2d8",
   "metadata": {},
   "outputs": [
    {
     "data": {
      "text/plain": [
       "-0.22833939632689226"
      ]
     },
     "execution_count": 18,
     "metadata": {},
     "output_type": "execute_result"
    }
   ],
   "source": [
    "ln.score(x_test,y_test)"
   ]
  },
  {
   "cell_type": "markdown",
   "id": "8c229ce3",
   "metadata": {},
   "source": [
    "## knn classification"
   ]
  },
  {
   "cell_type": "code",
   "execution_count": 19,
   "id": "806f5161",
   "metadata": {},
   "outputs": [],
   "source": [
    "from sklearn.neighbors import KNeighborsClassifier\n",
    "kn = KNeighborsClassifier(n_neighbors=3)"
   ]
  },
  {
   "cell_type": "code",
   "execution_count": 20,
   "id": "99bafdb3",
   "metadata": {},
   "outputs": [
    {
     "data": {
      "text/plain": [
       "KNeighborsClassifier(n_neighbors=3)"
      ]
     },
     "execution_count": 20,
     "metadata": {},
     "output_type": "execute_result"
    }
   ],
   "source": [
    "kn.fit(x_train,y_train)"
   ]
  },
  {
   "cell_type": "code",
   "execution_count": 21,
   "id": "0824c813",
   "metadata": {},
   "outputs": [
    {
     "name": "stdout",
     "output_type": "stream",
     "text": [
      "86      2\n",
      "255     2\n",
      "98      2\n",
      "1599    2\n",
      "599     2\n",
      "       ..\n",
      "393     2\n",
      "416     0\n",
      "969     2\n",
      "972     2\n",
      "417     2\n",
      "Name: class_values, Length: 346, dtype: int32 [2 2 2 2 2 2 2 2 2 2 2 2 3 2 2 0 0 2 2 2 2 0 2 2 2 2 0 0 2 2 2 2 2 2 0 1 2\n",
      " 1 1 2 2 2 2 2 2 2 0 0 0 2 2 0 0 2 2 2 2 2 2 2 2 0 2 0 0 2 2 2 2 0 0 0 2 2\n",
      " 0 2 2 2 2 2 2 2 2 2 2 2 0 0 2 0 2 2 3 2 2 2 2 2 2 2 0 2 2 2 2 2 2 2 2 2 2\n",
      " 2 2 2 0 2 2 2 2 2 2 2 2 2 0 2 2 2 2 2 2 3 2 2 2 2 2 3 2 2 2 2 2 0 2 0 2 0\n",
      " 3 2 0 2 2 2 2 2 0 2 2 2 1 2 0 2 2 0 0 2 2 0 2 2 0 2 2 0 2 2 2 2 2 0 2 2 2\n",
      " 2 2 2 2 0 2 2 2 2 1 2 2 2 2 2 2 2 2 2 2 2 2 2 2 2 2 0 2 2 2 2 2 2 0 2 2 2\n",
      " 2 0 2 2 2 2 2 2 2 0 2 2 3 2 2 2 2 2 2 2 2 0 2 0 0 2 2 0 2 1 2 2 0 2 0 0 0\n",
      " 2 2 2 2 2 2 2 2 2 0 1 0 2 0 0 0 2 2 2 2 2 1 2 2 0 0 0 2 2 0 0 1 2 2 2 2 0\n",
      " 2 1 2 2 2 2 2 2 2 2 2 2 2 2 2 2 2 2 0 3 2 2 2 2 2 0 2 2 2 0 2 2 2 2 2 2 0\n",
      " 2 2 2 2 2 2 2 2 2 2 2 2 2]\n"
     ]
    }
   ],
   "source": [
    "print(y_test,kn.predict(x_test))"
   ]
  },
  {
   "cell_type": "code",
   "execution_count": 22,
   "id": "1406155b",
   "metadata": {},
   "outputs": [
    {
     "data": {
      "text/plain": [
       "0.8526011560693642"
      ]
     },
     "execution_count": 22,
     "metadata": {},
     "output_type": "execute_result"
    }
   ],
   "source": [
    "kn.score(x_test,y_test)"
   ]
  },
  {
   "cell_type": "markdown",
   "id": "8ab7e978",
   "metadata": {},
   "source": [
    "## Decision tree classifier"
   ]
  },
  {
   "cell_type": "code",
   "execution_count": 23,
   "id": "bf54973e",
   "metadata": {},
   "outputs": [],
   "source": [
    "from sklearn.tree import DecisionTreeClassifier\n",
    "tree = DecisionTreeClassifier()"
   ]
  },
  {
   "cell_type": "code",
   "execution_count": 24,
   "id": "609a2a4d",
   "metadata": {},
   "outputs": [
    {
     "data": {
      "text/plain": [
       "DecisionTreeClassifier()"
      ]
     },
     "execution_count": 24,
     "metadata": {},
     "output_type": "execute_result"
    }
   ],
   "source": [
    "tree.fit(x_train,y_train)"
   ]
  },
  {
   "cell_type": "code",
   "execution_count": 25,
   "id": "902136a7",
   "metadata": {},
   "outputs": [
    {
     "name": "stdout",
     "output_type": "stream",
     "text": [
      "86      2\n",
      "255     2\n",
      "98      2\n",
      "1599    2\n",
      "599     2\n",
      "       ..\n",
      "393     2\n",
      "416     0\n",
      "969     2\n",
      "972     2\n",
      "417     2\n",
      "Name: class_values, Length: 346, dtype: int32 [2 2 2 2 2 2 2 2 2 2 0 0 3 2 0 0 2 2 2 2 2 0 2 2 2 2 3 0 0 2 2 2 2 2 0 3 2\n",
      " 2 1 2 2 2 2 0 1 2 2 0 3 2 2 0 0 2 2 2 2 2 2 2 2 2 2 0 0 2 2 2 2 0 0 0 2 2\n",
      " 0 2 2 2 2 2 2 2 2 2 2 0 0 0 2 0 2 2 3 2 2 2 2 2 2 2 1 2 2 2 2 2 2 2 2 0 2\n",
      " 2 2 2 0 2 2 2 2 0 2 2 2 2 1 2 2 2 2 2 2 3 0 2 0 0 2 3 2 2 2 2 2 1 2 0 2 0\n",
      " 3 2 0 2 2 0 2 2 0 2 2 2 0 2 1 2 2 1 0 2 0 0 2 2 0 2 0 0 2 2 0 2 2 2 0 2 2\n",
      " 2 2 2 2 0 2 2 2 2 0 2 2 2 2 2 2 2 2 2 2 2 2 2 2 2 0 0 2 2 2 0 2 3 0 2 2 2\n",
      " 2 0 2 2 2 0 2 2 2 0 2 2 3 2 2 0 2 0 2 2 2 0 1 0 0 2 2 0 2 0 2 2 2 2 2 0 0\n",
      " 2 0 2 2 2 2 2 2 2 0 1 0 2 0 0 1 2 2 2 2 2 1 2 2 0 2 0 2 2 0 0 2 2 0 1 2 0\n",
      " 2 0 0 2 2 2 2 2 2 2 2 2 0 2 2 2 2 2 0 0 2 2 2 2 0 0 2 2 2 0 2 2 2 2 2 2 0\n",
      " 2 2 2 3 2 2 2 2 2 0 2 2 2]\n"
     ]
    }
   ],
   "source": [
    "print(y_test,tree.predict(x_test))\n"
   ]
  },
  {
   "cell_type": "code",
   "execution_count": 26,
   "id": "d86ea28a",
   "metadata": {},
   "outputs": [
    {
     "data": {
      "text/plain": [
       "0.9797687861271677"
      ]
     },
     "execution_count": 26,
     "metadata": {},
     "output_type": "execute_result"
    }
   ],
   "source": [
    "tree.score(x_test,y_test)"
   ]
  },
  {
   "cell_type": "markdown",
   "id": "d8a106c2",
   "metadata": {},
   "source": [
    "## SVM"
   ]
  },
  {
   "cell_type": "code",
   "execution_count": 27,
   "id": "6ad13d4f",
   "metadata": {},
   "outputs": [],
   "source": [
    "from sklearn.svm import SVC\n",
    "svc = SVC(C=2.0,\n",
    "    kernel='rbf',\n",
    "    degree=4)"
   ]
  },
  {
   "cell_type": "code",
   "execution_count": 28,
   "id": "e362250f",
   "metadata": {},
   "outputs": [
    {
     "data": {
      "text/plain": [
       "SVC(C=2.0, degree=4)"
      ]
     },
     "execution_count": 28,
     "metadata": {},
     "output_type": "execute_result"
    }
   ],
   "source": [
    "svc.fit(x_train,y_train)"
   ]
  },
  {
   "cell_type": "code",
   "execution_count": 29,
   "id": "25c4f81a",
   "metadata": {},
   "outputs": [
    {
     "name": "stdout",
     "output_type": "stream",
     "text": [
      "86      2\n",
      "255     2\n",
      "98      2\n",
      "1599    2\n",
      "599     2\n",
      "       ..\n",
      "393     2\n",
      "416     0\n",
      "969     2\n",
      "972     2\n",
      "417     2\n",
      "Name: class_values, Length: 346, dtype: int32 [2 2 2 2 2 2 2 2 2 2 0 0 3 2 0 0 2 2 2 2 2 0 2 2 2 2 3 0 0 2 2 2 2 2 0 3 2\n",
      " 2 1 2 2 2 2 0 1 2 2 0 0 2 2 0 0 2 2 2 2 2 2 2 2 2 2 0 0 2 2 2 2 0 0 0 2 2\n",
      " 0 2 2 2 2 2 2 2 2 2 2 0 0 0 2 0 2 2 3 2 2 2 2 2 2 2 0 2 2 2 2 2 2 2 2 0 2\n",
      " 2 2 2 0 2 2 2 2 0 2 2 2 2 1 2 2 2 2 2 2 3 0 2 0 0 2 3 2 2 2 2 2 1 2 0 2 1\n",
      " 3 2 0 2 2 0 2 2 0 2 2 2 0 2 0 2 2 1 0 2 0 0 2 2 0 2 2 0 2 2 0 2 2 0 2 2 2\n",
      " 2 2 2 2 0 2 2 2 2 0 2 2 2 2 2 2 2 2 2 2 2 2 2 2 2 0 0 2 2 2 2 2 3 0 2 2 2\n",
      " 2 0 2 2 2 0 2 2 2 0 2 2 3 2 2 0 2 0 2 2 2 0 0 0 0 2 2 0 2 0 2 2 2 2 2 1 0\n",
      " 2 0 2 2 2 2 2 2 2 0 1 1 2 0 0 1 2 2 2 2 2 1 2 2 0 2 0 2 2 0 0 2 2 0 0 2 0\n",
      " 2 1 0 2 2 2 2 2 2 2 2 2 0 2 2 2 2 2 0 3 2 2 2 2 0 0 2 2 2 0 2 2 2 2 2 2 0\n",
      " 2 2 2 3 2 2 2 2 2 0 2 2 2]\n"
     ]
    }
   ],
   "source": [
    "print(y_test,svc.predict(x_test))"
   ]
  },
  {
   "cell_type": "code",
   "execution_count": 30,
   "id": "c2737872",
   "metadata": {},
   "outputs": [
    {
     "data": {
      "text/plain": [
       "0.9682080924855492"
      ]
     },
     "execution_count": 30,
     "metadata": {},
     "output_type": "execute_result"
    }
   ],
   "source": [
    "svc.score(x_test,y_test)"
   ]
  },
  {
   "cell_type": "markdown",
   "id": "a7dab732",
   "metadata": {},
   "source": [
    "## now we check each model's score using metrix "
   ]
  },
  {
   "cell_type": "code",
   "execution_count": 31,
   "id": "292122e4",
   "metadata": {},
   "outputs": [],
   "source": [
    "predicate_kn = kn.predict(x_test)\n",
    "predicate_tree = tree.predict(x_test)\n",
    "predicate_svc = svc.predict(x_test)"
   ]
  },
  {
   "cell_type": "code",
   "execution_count": 32,
   "id": "84170961",
   "metadata": {},
   "outputs": [],
   "source": [
    "from sklearn.metrics import confusion_matrix\n",
    "cn = confusion_matrix(predicate_kn,y_test)"
   ]
  },
  {
   "cell_type": "code",
   "execution_count": 33,
   "id": "ac130b83",
   "metadata": {},
   "outputs": [
    {
     "name": "stdout",
     "output_type": "stream",
     "text": [
      "[[ 51   6   6   1]\n",
      " [  4   3   2   1]\n",
      " [ 27   2 234   2]\n",
      " [  0   0   0   7]]\n"
     ]
    }
   ],
   "source": [
    "print(cn)"
   ]
  },
  {
   "cell_type": "code",
   "execution_count": 34,
   "id": "ec656562",
   "metadata": {},
   "outputs": [
    {
     "data": {
      "text/plain": [
       "array([[ 78,   0,   2,   1],\n",
       "       [  1,  11,   0,   0],\n",
       "       [  2,   0, 240,   0],\n",
       "       [  1,   0,   0,  10]], dtype=int64)"
      ]
     },
     "execution_count": 34,
     "metadata": {},
     "output_type": "execute_result"
    }
   ],
   "source": [
    "cn = confusion_matrix(predicate_tree,y_test)\n",
    "cn"
   ]
  },
  {
   "cell_type": "code",
   "execution_count": 35,
   "id": "fb17f189",
   "metadata": {},
   "outputs": [
    {
     "data": {
      "text/plain": [
       "array([[ 75,   3,   1,   0],\n",
       "       [  4,   8,   0,   0],\n",
       "       [  3,   0, 241,   0],\n",
       "       [  0,   0,   0,  11]], dtype=int64)"
      ]
     },
     "execution_count": 35,
     "metadata": {},
     "output_type": "execute_result"
    }
   ],
   "source": [
    "cn = confusion_matrix(predicate_svc,y_test)\n",
    "cn"
   ]
  },
  {
   "cell_type": "markdown",
   "id": "c2344e0d",
   "metadata": {},
   "source": [
    "## so we can say that svm and decision tree are best model for our data"
   ]
  },
  {
   "cell_type": "markdown",
   "id": "5ddfc7f1",
   "metadata": {},
   "source": [
    "### There is one another way to find this "
   ]
  },
  {
   "cell_type": "markdown",
   "id": "27ad17d3",
   "metadata": {},
   "source": [
    "# Gridwssearchcv"
   ]
  },
  {
   "cell_type": "code",
   "execution_count": 36,
   "id": "9a290619",
   "metadata": {},
   "outputs": [],
   "source": [
    "from sklearn.model_selection import GridSearchCV"
   ]
  },
  {
   "cell_type": "code",
   "execution_count": 67,
   "id": "3fbbd721",
   "metadata": {},
   "outputs": [],
   "source": [
    "models_param = {'regression':\n",
    "                {'model':LinearRegression(),\n",
    "                 'params':{'n_jobs': [1,5,10]}},\n",
    "                \n",
    "                'knn':\n",
    "                {'model':KNeighborsClassifier(),\n",
    "                 'params':{'n_neighbors':[1,2,5],'n_jobs':[1,4,5],'p':[1,2,5]}},\n",
    "                \n",
    "                'decision_tree':\n",
    "                {'model':DecisionTreeClassifier(),\n",
    "                 'params':{'max_depth':[1,5,10],'min_samples_split':[2,4]}},\n",
    "                \n",
    "                'svm':\n",
    "                {'model':SVC(),\n",
    "                 'params':{'C':[1,3,5],'kernel':['rbf','linea'],'degree':[1,4,8]}}}\n",
    "\n"
   ]
  },
  {
   "cell_type": "code",
   "execution_count": 74,
   "id": "b4dd4bf3",
   "metadata": {},
   "outputs": [
    {
     "name": "stderr",
     "output_type": "stream",
     "text": [
      "C:\\Users\\KD\\AppData\\Roaming\\Python\\Python39\\site-packages\\sklearn\\model_selection\\_validation.py:615: FitFailedWarning: Estimator fit failed. The score on this train-test partition for these parameters will be set to nan. Details: \n",
      "Traceback (most recent call last):\n",
      "  File \"C:\\Users\\KD\\AppData\\Roaming\\Python\\Python39\\site-packages\\sklearn\\model_selection\\_validation.py\", line 598, in _fit_and_score\n",
      "    estimator.fit(X_train, y_train, **fit_params)\n",
      "  File \"C:\\Users\\KD\\AppData\\Roaming\\Python\\Python39\\site-packages\\sklearn\\svm\\_base.py\", line 226, in fit\n",
      "    fit(X, y, sample_weight, solver_type, kernel, random_seed=seed)\n",
      "  File \"C:\\Users\\KD\\AppData\\Roaming\\Python\\Python39\\site-packages\\sklearn\\svm\\_base.py\", line 277, in _dense_fit\n",
      "    self._probB, self.fit_status_ = libsvm.fit(\n",
      "  File \"sklearn\\svm\\_libsvm.pyx\", line 176, in sklearn.svm._libsvm.fit\n",
      "ValueError: 'linea' is not in list\n",
      "\n",
      "  warnings.warn(\"Estimator fit failed. The score on this train-test\"\n",
      "C:\\Users\\KD\\AppData\\Roaming\\Python\\Python39\\site-packages\\sklearn\\model_selection\\_validation.py:615: FitFailedWarning: Estimator fit failed. The score on this train-test partition for these parameters will be set to nan. Details: \n",
      "Traceback (most recent call last):\n",
      "  File \"C:\\Users\\KD\\AppData\\Roaming\\Python\\Python39\\site-packages\\sklearn\\model_selection\\_validation.py\", line 598, in _fit_and_score\n",
      "    estimator.fit(X_train, y_train, **fit_params)\n",
      "  File \"C:\\Users\\KD\\AppData\\Roaming\\Python\\Python39\\site-packages\\sklearn\\svm\\_base.py\", line 226, in fit\n",
      "    fit(X, y, sample_weight, solver_type, kernel, random_seed=seed)\n",
      "  File \"C:\\Users\\KD\\AppData\\Roaming\\Python\\Python39\\site-packages\\sklearn\\svm\\_base.py\", line 277, in _dense_fit\n",
      "    self._probB, self.fit_status_ = libsvm.fit(\n",
      "  File \"sklearn\\svm\\_libsvm.pyx\", line 176, in sklearn.svm._libsvm.fit\n",
      "ValueError: 'linea' is not in list\n",
      "\n",
      "  warnings.warn(\"Estimator fit failed. The score on this train-test\"\n",
      "C:\\Users\\KD\\AppData\\Roaming\\Python\\Python39\\site-packages\\sklearn\\model_selection\\_validation.py:615: FitFailedWarning: Estimator fit failed. The score on this train-test partition for these parameters will be set to nan. Details: \n",
      "Traceback (most recent call last):\n",
      "  File \"C:\\Users\\KD\\AppData\\Roaming\\Python\\Python39\\site-packages\\sklearn\\model_selection\\_validation.py\", line 598, in _fit_and_score\n",
      "    estimator.fit(X_train, y_train, **fit_params)\n",
      "  File \"C:\\Users\\KD\\AppData\\Roaming\\Python\\Python39\\site-packages\\sklearn\\svm\\_base.py\", line 226, in fit\n",
      "    fit(X, y, sample_weight, solver_type, kernel, random_seed=seed)\n",
      "  File \"C:\\Users\\KD\\AppData\\Roaming\\Python\\Python39\\site-packages\\sklearn\\svm\\_base.py\", line 277, in _dense_fit\n",
      "    self._probB, self.fit_status_ = libsvm.fit(\n",
      "  File \"sklearn\\svm\\_libsvm.pyx\", line 176, in sklearn.svm._libsvm.fit\n",
      "ValueError: 'linea' is not in list\n",
      "\n",
      "  warnings.warn(\"Estimator fit failed. The score on this train-test\"\n",
      "C:\\Users\\KD\\AppData\\Roaming\\Python\\Python39\\site-packages\\sklearn\\model_selection\\_validation.py:615: FitFailedWarning: Estimator fit failed. The score on this train-test partition for these parameters will be set to nan. Details: \n",
      "Traceback (most recent call last):\n",
      "  File \"C:\\Users\\KD\\AppData\\Roaming\\Python\\Python39\\site-packages\\sklearn\\model_selection\\_validation.py\", line 598, in _fit_and_score\n",
      "    estimator.fit(X_train, y_train, **fit_params)\n",
      "  File \"C:\\Users\\KD\\AppData\\Roaming\\Python\\Python39\\site-packages\\sklearn\\svm\\_base.py\", line 226, in fit\n",
      "    fit(X, y, sample_weight, solver_type, kernel, random_seed=seed)\n",
      "  File \"C:\\Users\\KD\\AppData\\Roaming\\Python\\Python39\\site-packages\\sklearn\\svm\\_base.py\", line 277, in _dense_fit\n",
      "    self._probB, self.fit_status_ = libsvm.fit(\n",
      "  File \"sklearn\\svm\\_libsvm.pyx\", line 176, in sklearn.svm._libsvm.fit\n",
      "ValueError: 'linea' is not in list\n",
      "\n",
      "  warnings.warn(\"Estimator fit failed. The score on this train-test\"\n",
      "C:\\Users\\KD\\AppData\\Roaming\\Python\\Python39\\site-packages\\sklearn\\model_selection\\_validation.py:615: FitFailedWarning: Estimator fit failed. The score on this train-test partition for these parameters will be set to nan. Details: \n",
      "Traceback (most recent call last):\n",
      "  File \"C:\\Users\\KD\\AppData\\Roaming\\Python\\Python39\\site-packages\\sklearn\\model_selection\\_validation.py\", line 598, in _fit_and_score\n",
      "    estimator.fit(X_train, y_train, **fit_params)\n",
      "  File \"C:\\Users\\KD\\AppData\\Roaming\\Python\\Python39\\site-packages\\sklearn\\svm\\_base.py\", line 226, in fit\n",
      "    fit(X, y, sample_weight, solver_type, kernel, random_seed=seed)\n",
      "  File \"C:\\Users\\KD\\AppData\\Roaming\\Python\\Python39\\site-packages\\sklearn\\svm\\_base.py\", line 277, in _dense_fit\n",
      "    self._probB, self.fit_status_ = libsvm.fit(\n",
      "  File \"sklearn\\svm\\_libsvm.pyx\", line 176, in sklearn.svm._libsvm.fit\n",
      "ValueError: 'linea' is not in list\n",
      "\n",
      "  warnings.warn(\"Estimator fit failed. The score on this train-test\"\n",
      "C:\\Users\\KD\\AppData\\Roaming\\Python\\Python39\\site-packages\\sklearn\\model_selection\\_validation.py:615: FitFailedWarning: Estimator fit failed. The score on this train-test partition for these parameters will be set to nan. Details: \n",
      "Traceback (most recent call last):\n",
      "  File \"C:\\Users\\KD\\AppData\\Roaming\\Python\\Python39\\site-packages\\sklearn\\model_selection\\_validation.py\", line 598, in _fit_and_score\n",
      "    estimator.fit(X_train, y_train, **fit_params)\n",
      "  File \"C:\\Users\\KD\\AppData\\Roaming\\Python\\Python39\\site-packages\\sklearn\\svm\\_base.py\", line 226, in fit\n",
      "    fit(X, y, sample_weight, solver_type, kernel, random_seed=seed)\n",
      "  File \"C:\\Users\\KD\\AppData\\Roaming\\Python\\Python39\\site-packages\\sklearn\\svm\\_base.py\", line 277, in _dense_fit\n",
      "    self._probB, self.fit_status_ = libsvm.fit(\n",
      "  File \"sklearn\\svm\\_libsvm.pyx\", line 176, in sklearn.svm._libsvm.fit\n",
      "ValueError: 'linea' is not in list\n",
      "\n",
      "  warnings.warn(\"Estimator fit failed. The score on this train-test\"\n",
      "C:\\Users\\KD\\AppData\\Roaming\\Python\\Python39\\site-packages\\sklearn\\model_selection\\_validation.py:615: FitFailedWarning: Estimator fit failed. The score on this train-test partition for these parameters will be set to nan. Details: \n",
      "Traceback (most recent call last):\n",
      "  File \"C:\\Users\\KD\\AppData\\Roaming\\Python\\Python39\\site-packages\\sklearn\\model_selection\\_validation.py\", line 598, in _fit_and_score\n",
      "    estimator.fit(X_train, y_train, **fit_params)\n",
      "  File \"C:\\Users\\KD\\AppData\\Roaming\\Python\\Python39\\site-packages\\sklearn\\svm\\_base.py\", line 226, in fit\n",
      "    fit(X, y, sample_weight, solver_type, kernel, random_seed=seed)\n",
      "  File \"C:\\Users\\KD\\AppData\\Roaming\\Python\\Python39\\site-packages\\sklearn\\svm\\_base.py\", line 277, in _dense_fit\n",
      "    self._probB, self.fit_status_ = libsvm.fit(\n",
      "  File \"sklearn\\svm\\_libsvm.pyx\", line 176, in sklearn.svm._libsvm.fit\n",
      "ValueError: 'linea' is not in list\n",
      "\n",
      "  warnings.warn(\"Estimator fit failed. The score on this train-test\"\n",
      "C:\\Users\\KD\\AppData\\Roaming\\Python\\Python39\\site-packages\\sklearn\\model_selection\\_validation.py:615: FitFailedWarning: Estimator fit failed. The score on this train-test partition for these parameters will be set to nan. Details: \n",
      "Traceback (most recent call last):\n",
      "  File \"C:\\Users\\KD\\AppData\\Roaming\\Python\\Python39\\site-packages\\sklearn\\model_selection\\_validation.py\", line 598, in _fit_and_score\n",
      "    estimator.fit(X_train, y_train, **fit_params)\n",
      "  File \"C:\\Users\\KD\\AppData\\Roaming\\Python\\Python39\\site-packages\\sklearn\\svm\\_base.py\", line 226, in fit\n",
      "    fit(X, y, sample_weight, solver_type, kernel, random_seed=seed)\n",
      "  File \"C:\\Users\\KD\\AppData\\Roaming\\Python\\Python39\\site-packages\\sklearn\\svm\\_base.py\", line 277, in _dense_fit\n",
      "    self._probB, self.fit_status_ = libsvm.fit(\n",
      "  File \"sklearn\\svm\\_libsvm.pyx\", line 176, in sklearn.svm._libsvm.fit\n",
      "ValueError: 'linea' is not in list\n",
      "\n",
      "  warnings.warn(\"Estimator fit failed. The score on this train-test\"\n",
      "C:\\Users\\KD\\AppData\\Roaming\\Python\\Python39\\site-packages\\sklearn\\model_selection\\_validation.py:615: FitFailedWarning: Estimator fit failed. The score on this train-test partition for these parameters will be set to nan. Details: \n",
      "Traceback (most recent call last):\n",
      "  File \"C:\\Users\\KD\\AppData\\Roaming\\Python\\Python39\\site-packages\\sklearn\\model_selection\\_validation.py\", line 598, in _fit_and_score\n",
      "    estimator.fit(X_train, y_train, **fit_params)\n",
      "  File \"C:\\Users\\KD\\AppData\\Roaming\\Python\\Python39\\site-packages\\sklearn\\svm\\_base.py\", line 226, in fit\n",
      "    fit(X, y, sample_weight, solver_type, kernel, random_seed=seed)\n",
      "  File \"C:\\Users\\KD\\AppData\\Roaming\\Python\\Python39\\site-packages\\sklearn\\svm\\_base.py\", line 277, in _dense_fit\n",
      "    self._probB, self.fit_status_ = libsvm.fit(\n",
      "  File \"sklearn\\svm\\_libsvm.pyx\", line 176, in sklearn.svm._libsvm.fit\n",
      "ValueError: 'linea' is not in list\n",
      "\n",
      "  warnings.warn(\"Estimator fit failed. The score on this train-test\"\n",
      "C:\\Users\\KD\\AppData\\Roaming\\Python\\Python39\\site-packages\\sklearn\\model_selection\\_validation.py:615: FitFailedWarning: Estimator fit failed. The score on this train-test partition for these parameters will be set to nan. Details: \n",
      "Traceback (most recent call last):\n",
      "  File \"C:\\Users\\KD\\AppData\\Roaming\\Python\\Python39\\site-packages\\sklearn\\model_selection\\_validation.py\", line 598, in _fit_and_score\n",
      "    estimator.fit(X_train, y_train, **fit_params)\n",
      "  File \"C:\\Users\\KD\\AppData\\Roaming\\Python\\Python39\\site-packages\\sklearn\\svm\\_base.py\", line 226, in fit\n",
      "    fit(X, y, sample_weight, solver_type, kernel, random_seed=seed)\n",
      "  File \"C:\\Users\\KD\\AppData\\Roaming\\Python\\Python39\\site-packages\\sklearn\\svm\\_base.py\", line 277, in _dense_fit\n",
      "    self._probB, self.fit_status_ = libsvm.fit(\n",
      "  File \"sklearn\\svm\\_libsvm.pyx\", line 176, in sklearn.svm._libsvm.fit\n",
      "ValueError: 'linea' is not in list\n",
      "\n",
      "  warnings.warn(\"Estimator fit failed. The score on this train-test\"\n",
      "C:\\Users\\KD\\AppData\\Roaming\\Python\\Python39\\site-packages\\sklearn\\model_selection\\_validation.py:615: FitFailedWarning: Estimator fit failed. The score on this train-test partition for these parameters will be set to nan. Details: \n",
      "Traceback (most recent call last):\n",
      "  File \"C:\\Users\\KD\\AppData\\Roaming\\Python\\Python39\\site-packages\\sklearn\\model_selection\\_validation.py\", line 598, in _fit_and_score\n",
      "    estimator.fit(X_train, y_train, **fit_params)\n",
      "  File \"C:\\Users\\KD\\AppData\\Roaming\\Python\\Python39\\site-packages\\sklearn\\svm\\_base.py\", line 226, in fit\n",
      "    fit(X, y, sample_weight, solver_type, kernel, random_seed=seed)\n",
      "  File \"C:\\Users\\KD\\AppData\\Roaming\\Python\\Python39\\site-packages\\sklearn\\svm\\_base.py\", line 277, in _dense_fit\n",
      "    self._probB, self.fit_status_ = libsvm.fit(\n",
      "  File \"sklearn\\svm\\_libsvm.pyx\", line 176, in sklearn.svm._libsvm.fit\n",
      "ValueError: 'linea' is not in list\n",
      "\n",
      "  warnings.warn(\"Estimator fit failed. The score on this train-test\"\n",
      "C:\\Users\\KD\\AppData\\Roaming\\Python\\Python39\\site-packages\\sklearn\\model_selection\\_validation.py:615: FitFailedWarning: Estimator fit failed. The score on this train-test partition for these parameters will be set to nan. Details: \n",
      "Traceback (most recent call last):\n",
      "  File \"C:\\Users\\KD\\AppData\\Roaming\\Python\\Python39\\site-packages\\sklearn\\model_selection\\_validation.py\", line 598, in _fit_and_score\n",
      "    estimator.fit(X_train, y_train, **fit_params)\n",
      "  File \"C:\\Users\\KD\\AppData\\Roaming\\Python\\Python39\\site-packages\\sklearn\\svm\\_base.py\", line 226, in fit\n",
      "    fit(X, y, sample_weight, solver_type, kernel, random_seed=seed)\n",
      "  File \"C:\\Users\\KD\\AppData\\Roaming\\Python\\Python39\\site-packages\\sklearn\\svm\\_base.py\", line 277, in _dense_fit\n",
      "    self._probB, self.fit_status_ = libsvm.fit(\n",
      "  File \"sklearn\\svm\\_libsvm.pyx\", line 176, in sklearn.svm._libsvm.fit\n",
      "ValueError: 'linea' is not in list\n",
      "\n",
      "  warnings.warn(\"Estimator fit failed. The score on this train-test\"\n"
     ]
    },
    {
     "name": "stderr",
     "output_type": "stream",
     "text": [
      "C:\\Users\\KD\\AppData\\Roaming\\Python\\Python39\\site-packages\\sklearn\\model_selection\\_validation.py:615: FitFailedWarning: Estimator fit failed. The score on this train-test partition for these parameters will be set to nan. Details: \n",
      "Traceback (most recent call last):\n",
      "  File \"C:\\Users\\KD\\AppData\\Roaming\\Python\\Python39\\site-packages\\sklearn\\model_selection\\_validation.py\", line 598, in _fit_and_score\n",
      "    estimator.fit(X_train, y_train, **fit_params)\n",
      "  File \"C:\\Users\\KD\\AppData\\Roaming\\Python\\Python39\\site-packages\\sklearn\\svm\\_base.py\", line 226, in fit\n",
      "    fit(X, y, sample_weight, solver_type, kernel, random_seed=seed)\n",
      "  File \"C:\\Users\\KD\\AppData\\Roaming\\Python\\Python39\\site-packages\\sklearn\\svm\\_base.py\", line 277, in _dense_fit\n",
      "    self._probB, self.fit_status_ = libsvm.fit(\n",
      "  File \"sklearn\\svm\\_libsvm.pyx\", line 176, in sklearn.svm._libsvm.fit\n",
      "ValueError: 'linea' is not in list\n",
      "\n",
      "  warnings.warn(\"Estimator fit failed. The score on this train-test\"\n",
      "C:\\Users\\KD\\AppData\\Roaming\\Python\\Python39\\site-packages\\sklearn\\model_selection\\_validation.py:615: FitFailedWarning: Estimator fit failed. The score on this train-test partition for these parameters will be set to nan. Details: \n",
      "Traceback (most recent call last):\n",
      "  File \"C:\\Users\\KD\\AppData\\Roaming\\Python\\Python39\\site-packages\\sklearn\\model_selection\\_validation.py\", line 598, in _fit_and_score\n",
      "    estimator.fit(X_train, y_train, **fit_params)\n",
      "  File \"C:\\Users\\KD\\AppData\\Roaming\\Python\\Python39\\site-packages\\sklearn\\svm\\_base.py\", line 226, in fit\n",
      "    fit(X, y, sample_weight, solver_type, kernel, random_seed=seed)\n",
      "  File \"C:\\Users\\KD\\AppData\\Roaming\\Python\\Python39\\site-packages\\sklearn\\svm\\_base.py\", line 277, in _dense_fit\n",
      "    self._probB, self.fit_status_ = libsvm.fit(\n",
      "  File \"sklearn\\svm\\_libsvm.pyx\", line 176, in sklearn.svm._libsvm.fit\n",
      "ValueError: 'linea' is not in list\n",
      "\n",
      "  warnings.warn(\"Estimator fit failed. The score on this train-test\"\n",
      "C:\\Users\\KD\\AppData\\Roaming\\Python\\Python39\\site-packages\\sklearn\\model_selection\\_validation.py:615: FitFailedWarning: Estimator fit failed. The score on this train-test partition for these parameters will be set to nan. Details: \n",
      "Traceback (most recent call last):\n",
      "  File \"C:\\Users\\KD\\AppData\\Roaming\\Python\\Python39\\site-packages\\sklearn\\model_selection\\_validation.py\", line 598, in _fit_and_score\n",
      "    estimator.fit(X_train, y_train, **fit_params)\n",
      "  File \"C:\\Users\\KD\\AppData\\Roaming\\Python\\Python39\\site-packages\\sklearn\\svm\\_base.py\", line 226, in fit\n",
      "    fit(X, y, sample_weight, solver_type, kernel, random_seed=seed)\n",
      "  File \"C:\\Users\\KD\\AppData\\Roaming\\Python\\Python39\\site-packages\\sklearn\\svm\\_base.py\", line 277, in _dense_fit\n",
      "    self._probB, self.fit_status_ = libsvm.fit(\n",
      "  File \"sklearn\\svm\\_libsvm.pyx\", line 176, in sklearn.svm._libsvm.fit\n",
      "ValueError: 'linea' is not in list\n",
      "\n",
      "  warnings.warn(\"Estimator fit failed. The score on this train-test\"\n",
      "C:\\Users\\KD\\AppData\\Roaming\\Python\\Python39\\site-packages\\sklearn\\model_selection\\_validation.py:615: FitFailedWarning: Estimator fit failed. The score on this train-test partition for these parameters will be set to nan. Details: \n",
      "Traceback (most recent call last):\n",
      "  File \"C:\\Users\\KD\\AppData\\Roaming\\Python\\Python39\\site-packages\\sklearn\\model_selection\\_validation.py\", line 598, in _fit_and_score\n",
      "    estimator.fit(X_train, y_train, **fit_params)\n",
      "  File \"C:\\Users\\KD\\AppData\\Roaming\\Python\\Python39\\site-packages\\sklearn\\svm\\_base.py\", line 226, in fit\n",
      "    fit(X, y, sample_weight, solver_type, kernel, random_seed=seed)\n",
      "  File \"C:\\Users\\KD\\AppData\\Roaming\\Python\\Python39\\site-packages\\sklearn\\svm\\_base.py\", line 277, in _dense_fit\n",
      "    self._probB, self.fit_status_ = libsvm.fit(\n",
      "  File \"sklearn\\svm\\_libsvm.pyx\", line 176, in sklearn.svm._libsvm.fit\n",
      "ValueError: 'linea' is not in list\n",
      "\n",
      "  warnings.warn(\"Estimator fit failed. The score on this train-test\"\n",
      "C:\\Users\\KD\\AppData\\Roaming\\Python\\Python39\\site-packages\\sklearn\\model_selection\\_validation.py:615: FitFailedWarning: Estimator fit failed. The score on this train-test partition for these parameters will be set to nan. Details: \n",
      "Traceback (most recent call last):\n",
      "  File \"C:\\Users\\KD\\AppData\\Roaming\\Python\\Python39\\site-packages\\sklearn\\model_selection\\_validation.py\", line 598, in _fit_and_score\n",
      "    estimator.fit(X_train, y_train, **fit_params)\n",
      "  File \"C:\\Users\\KD\\AppData\\Roaming\\Python\\Python39\\site-packages\\sklearn\\svm\\_base.py\", line 226, in fit\n",
      "    fit(X, y, sample_weight, solver_type, kernel, random_seed=seed)\n",
      "  File \"C:\\Users\\KD\\AppData\\Roaming\\Python\\Python39\\site-packages\\sklearn\\svm\\_base.py\", line 277, in _dense_fit\n",
      "    self._probB, self.fit_status_ = libsvm.fit(\n",
      "  File \"sklearn\\svm\\_libsvm.pyx\", line 176, in sklearn.svm._libsvm.fit\n",
      "ValueError: 'linea' is not in list\n",
      "\n",
      "  warnings.warn(\"Estimator fit failed. The score on this train-test\"\n",
      "C:\\Users\\KD\\AppData\\Roaming\\Python\\Python39\\site-packages\\sklearn\\model_selection\\_validation.py:615: FitFailedWarning: Estimator fit failed. The score on this train-test partition for these parameters will be set to nan. Details: \n",
      "Traceback (most recent call last):\n",
      "  File \"C:\\Users\\KD\\AppData\\Roaming\\Python\\Python39\\site-packages\\sklearn\\model_selection\\_validation.py\", line 598, in _fit_and_score\n",
      "    estimator.fit(X_train, y_train, **fit_params)\n",
      "  File \"C:\\Users\\KD\\AppData\\Roaming\\Python\\Python39\\site-packages\\sklearn\\svm\\_base.py\", line 226, in fit\n",
      "    fit(X, y, sample_weight, solver_type, kernel, random_seed=seed)\n",
      "  File \"C:\\Users\\KD\\AppData\\Roaming\\Python\\Python39\\site-packages\\sklearn\\svm\\_base.py\", line 277, in _dense_fit\n",
      "    self._probB, self.fit_status_ = libsvm.fit(\n",
      "  File \"sklearn\\svm\\_libsvm.pyx\", line 176, in sklearn.svm._libsvm.fit\n",
      "ValueError: 'linea' is not in list\n",
      "\n",
      "  warnings.warn(\"Estimator fit failed. The score on this train-test\"\n",
      "C:\\Users\\KD\\AppData\\Roaming\\Python\\Python39\\site-packages\\sklearn\\model_selection\\_validation.py:615: FitFailedWarning: Estimator fit failed. The score on this train-test partition for these parameters will be set to nan. Details: \n",
      "Traceback (most recent call last):\n",
      "  File \"C:\\Users\\KD\\AppData\\Roaming\\Python\\Python39\\site-packages\\sklearn\\model_selection\\_validation.py\", line 598, in _fit_and_score\n",
      "    estimator.fit(X_train, y_train, **fit_params)\n",
      "  File \"C:\\Users\\KD\\AppData\\Roaming\\Python\\Python39\\site-packages\\sklearn\\svm\\_base.py\", line 226, in fit\n",
      "    fit(X, y, sample_weight, solver_type, kernel, random_seed=seed)\n",
      "  File \"C:\\Users\\KD\\AppData\\Roaming\\Python\\Python39\\site-packages\\sklearn\\svm\\_base.py\", line 277, in _dense_fit\n",
      "    self._probB, self.fit_status_ = libsvm.fit(\n",
      "  File \"sklearn\\svm\\_libsvm.pyx\", line 176, in sklearn.svm._libsvm.fit\n",
      "ValueError: 'linea' is not in list\n",
      "\n",
      "  warnings.warn(\"Estimator fit failed. The score on this train-test\"\n",
      "C:\\Users\\KD\\AppData\\Roaming\\Python\\Python39\\site-packages\\sklearn\\model_selection\\_validation.py:615: FitFailedWarning: Estimator fit failed. The score on this train-test partition for these parameters will be set to nan. Details: \n",
      "Traceback (most recent call last):\n",
      "  File \"C:\\Users\\KD\\AppData\\Roaming\\Python\\Python39\\site-packages\\sklearn\\model_selection\\_validation.py\", line 598, in _fit_and_score\n",
      "    estimator.fit(X_train, y_train, **fit_params)\n",
      "  File \"C:\\Users\\KD\\AppData\\Roaming\\Python\\Python39\\site-packages\\sklearn\\svm\\_base.py\", line 226, in fit\n",
      "    fit(X, y, sample_weight, solver_type, kernel, random_seed=seed)\n",
      "  File \"C:\\Users\\KD\\AppData\\Roaming\\Python\\Python39\\site-packages\\sklearn\\svm\\_base.py\", line 277, in _dense_fit\n",
      "    self._probB, self.fit_status_ = libsvm.fit(\n",
      "  File \"sklearn\\svm\\_libsvm.pyx\", line 176, in sklearn.svm._libsvm.fit\n",
      "ValueError: 'linea' is not in list\n",
      "\n",
      "  warnings.warn(\"Estimator fit failed. The score on this train-test\"\n",
      "C:\\Users\\KD\\AppData\\Roaming\\Python\\Python39\\site-packages\\sklearn\\model_selection\\_validation.py:615: FitFailedWarning: Estimator fit failed. The score on this train-test partition for these parameters will be set to nan. Details: \n",
      "Traceback (most recent call last):\n",
      "  File \"C:\\Users\\KD\\AppData\\Roaming\\Python\\Python39\\site-packages\\sklearn\\model_selection\\_validation.py\", line 598, in _fit_and_score\n",
      "    estimator.fit(X_train, y_train, **fit_params)\n",
      "  File \"C:\\Users\\KD\\AppData\\Roaming\\Python\\Python39\\site-packages\\sklearn\\svm\\_base.py\", line 226, in fit\n",
      "    fit(X, y, sample_weight, solver_type, kernel, random_seed=seed)\n",
      "  File \"C:\\Users\\KD\\AppData\\Roaming\\Python\\Python39\\site-packages\\sklearn\\svm\\_base.py\", line 277, in _dense_fit\n",
      "    self._probB, self.fit_status_ = libsvm.fit(\n",
      "  File \"sklearn\\svm\\_libsvm.pyx\", line 176, in sklearn.svm._libsvm.fit\n",
      "ValueError: 'linea' is not in list\n",
      "\n",
      "  warnings.warn(\"Estimator fit failed. The score on this train-test\"\n",
      "C:\\Users\\KD\\AppData\\Roaming\\Python\\Python39\\site-packages\\sklearn\\model_selection\\_validation.py:615: FitFailedWarning: Estimator fit failed. The score on this train-test partition for these parameters will be set to nan. Details: \n",
      "Traceback (most recent call last):\n",
      "  File \"C:\\Users\\KD\\AppData\\Roaming\\Python\\Python39\\site-packages\\sklearn\\model_selection\\_validation.py\", line 598, in _fit_and_score\n",
      "    estimator.fit(X_train, y_train, **fit_params)\n",
      "  File \"C:\\Users\\KD\\AppData\\Roaming\\Python\\Python39\\site-packages\\sklearn\\svm\\_base.py\", line 226, in fit\n",
      "    fit(X, y, sample_weight, solver_type, kernel, random_seed=seed)\n",
      "  File \"C:\\Users\\KD\\AppData\\Roaming\\Python\\Python39\\site-packages\\sklearn\\svm\\_base.py\", line 277, in _dense_fit\n",
      "    self._probB, self.fit_status_ = libsvm.fit(\n",
      "  File \"sklearn\\svm\\_libsvm.pyx\", line 176, in sklearn.svm._libsvm.fit\n",
      "ValueError: 'linea' is not in list\n",
      "\n",
      "  warnings.warn(\"Estimator fit failed. The score on this train-test\"\n",
      "C:\\Users\\KD\\AppData\\Roaming\\Python\\Python39\\site-packages\\sklearn\\model_selection\\_validation.py:615: FitFailedWarning: Estimator fit failed. The score on this train-test partition for these parameters will be set to nan. Details: \n",
      "Traceback (most recent call last):\n",
      "  File \"C:\\Users\\KD\\AppData\\Roaming\\Python\\Python39\\site-packages\\sklearn\\model_selection\\_validation.py\", line 598, in _fit_and_score\n",
      "    estimator.fit(X_train, y_train, **fit_params)\n",
      "  File \"C:\\Users\\KD\\AppData\\Roaming\\Python\\Python39\\site-packages\\sklearn\\svm\\_base.py\", line 226, in fit\n",
      "    fit(X, y, sample_weight, solver_type, kernel, random_seed=seed)\n",
      "  File \"C:\\Users\\KD\\AppData\\Roaming\\Python\\Python39\\site-packages\\sklearn\\svm\\_base.py\", line 277, in _dense_fit\n",
      "    self._probB, self.fit_status_ = libsvm.fit(\n",
      "  File \"sklearn\\svm\\_libsvm.pyx\", line 176, in sklearn.svm._libsvm.fit\n",
      "ValueError: 'linea' is not in list\n",
      "\n",
      "  warnings.warn(\"Estimator fit failed. The score on this train-test\"\n",
      "C:\\Users\\KD\\AppData\\Roaming\\Python\\Python39\\site-packages\\sklearn\\model_selection\\_validation.py:615: FitFailedWarning: Estimator fit failed. The score on this train-test partition for these parameters will be set to nan. Details: \n",
      "Traceback (most recent call last):\n",
      "  File \"C:\\Users\\KD\\AppData\\Roaming\\Python\\Python39\\site-packages\\sklearn\\model_selection\\_validation.py\", line 598, in _fit_and_score\n",
      "    estimator.fit(X_train, y_train, **fit_params)\n",
      "  File \"C:\\Users\\KD\\AppData\\Roaming\\Python\\Python39\\site-packages\\sklearn\\svm\\_base.py\", line 226, in fit\n",
      "    fit(X, y, sample_weight, solver_type, kernel, random_seed=seed)\n",
      "  File \"C:\\Users\\KD\\AppData\\Roaming\\Python\\Python39\\site-packages\\sklearn\\svm\\_base.py\", line 277, in _dense_fit\n",
      "    self._probB, self.fit_status_ = libsvm.fit(\n",
      "  File \"sklearn\\svm\\_libsvm.pyx\", line 176, in sklearn.svm._libsvm.fit\n",
      "ValueError: 'linea' is not in list\n",
      "\n",
      "  warnings.warn(\"Estimator fit failed. The score on this train-test\"\n"
     ]
    },
    {
     "name": "stderr",
     "output_type": "stream",
     "text": [
      "C:\\Users\\KD\\AppData\\Roaming\\Python\\Python39\\site-packages\\sklearn\\model_selection\\_validation.py:615: FitFailedWarning: Estimator fit failed. The score on this train-test partition for these parameters will be set to nan. Details: \n",
      "Traceback (most recent call last):\n",
      "  File \"C:\\Users\\KD\\AppData\\Roaming\\Python\\Python39\\site-packages\\sklearn\\model_selection\\_validation.py\", line 598, in _fit_and_score\n",
      "    estimator.fit(X_train, y_train, **fit_params)\n",
      "  File \"C:\\Users\\KD\\AppData\\Roaming\\Python\\Python39\\site-packages\\sklearn\\svm\\_base.py\", line 226, in fit\n",
      "    fit(X, y, sample_weight, solver_type, kernel, random_seed=seed)\n",
      "  File \"C:\\Users\\KD\\AppData\\Roaming\\Python\\Python39\\site-packages\\sklearn\\svm\\_base.py\", line 277, in _dense_fit\n",
      "    self._probB, self.fit_status_ = libsvm.fit(\n",
      "  File \"sklearn\\svm\\_libsvm.pyx\", line 176, in sklearn.svm._libsvm.fit\n",
      "ValueError: 'linea' is not in list\n",
      "\n",
      "  warnings.warn(\"Estimator fit failed. The score on this train-test\"\n",
      "C:\\Users\\KD\\AppData\\Roaming\\Python\\Python39\\site-packages\\sklearn\\model_selection\\_validation.py:615: FitFailedWarning: Estimator fit failed. The score on this train-test partition for these parameters will be set to nan. Details: \n",
      "Traceback (most recent call last):\n",
      "  File \"C:\\Users\\KD\\AppData\\Roaming\\Python\\Python39\\site-packages\\sklearn\\model_selection\\_validation.py\", line 598, in _fit_and_score\n",
      "    estimator.fit(X_train, y_train, **fit_params)\n",
      "  File \"C:\\Users\\KD\\AppData\\Roaming\\Python\\Python39\\site-packages\\sklearn\\svm\\_base.py\", line 226, in fit\n",
      "    fit(X, y, sample_weight, solver_type, kernel, random_seed=seed)\n",
      "  File \"C:\\Users\\KD\\AppData\\Roaming\\Python\\Python39\\site-packages\\sklearn\\svm\\_base.py\", line 277, in _dense_fit\n",
      "    self._probB, self.fit_status_ = libsvm.fit(\n",
      "  File \"sklearn\\svm\\_libsvm.pyx\", line 176, in sklearn.svm._libsvm.fit\n",
      "ValueError: 'linea' is not in list\n",
      "\n",
      "  warnings.warn(\"Estimator fit failed. The score on this train-test\"\n",
      "C:\\Users\\KD\\AppData\\Roaming\\Python\\Python39\\site-packages\\sklearn\\model_selection\\_validation.py:615: FitFailedWarning: Estimator fit failed. The score on this train-test partition for these parameters will be set to nan. Details: \n",
      "Traceback (most recent call last):\n",
      "  File \"C:\\Users\\KD\\AppData\\Roaming\\Python\\Python39\\site-packages\\sklearn\\model_selection\\_validation.py\", line 598, in _fit_and_score\n",
      "    estimator.fit(X_train, y_train, **fit_params)\n",
      "  File \"C:\\Users\\KD\\AppData\\Roaming\\Python\\Python39\\site-packages\\sklearn\\svm\\_base.py\", line 226, in fit\n",
      "    fit(X, y, sample_weight, solver_type, kernel, random_seed=seed)\n",
      "  File \"C:\\Users\\KD\\AppData\\Roaming\\Python\\Python39\\site-packages\\sklearn\\svm\\_base.py\", line 277, in _dense_fit\n",
      "    self._probB, self.fit_status_ = libsvm.fit(\n",
      "  File \"sklearn\\svm\\_libsvm.pyx\", line 176, in sklearn.svm._libsvm.fit\n",
      "ValueError: 'linea' is not in list\n",
      "\n",
      "  warnings.warn(\"Estimator fit failed. The score on this train-test\"\n",
      "C:\\Users\\KD\\AppData\\Roaming\\Python\\Python39\\site-packages\\sklearn\\model_selection\\_validation.py:615: FitFailedWarning: Estimator fit failed. The score on this train-test partition for these parameters will be set to nan. Details: \n",
      "Traceback (most recent call last):\n",
      "  File \"C:\\Users\\KD\\AppData\\Roaming\\Python\\Python39\\site-packages\\sklearn\\model_selection\\_validation.py\", line 598, in _fit_and_score\n",
      "    estimator.fit(X_train, y_train, **fit_params)\n",
      "  File \"C:\\Users\\KD\\AppData\\Roaming\\Python\\Python39\\site-packages\\sklearn\\svm\\_base.py\", line 226, in fit\n",
      "    fit(X, y, sample_weight, solver_type, kernel, random_seed=seed)\n",
      "  File \"C:\\Users\\KD\\AppData\\Roaming\\Python\\Python39\\site-packages\\sklearn\\svm\\_base.py\", line 277, in _dense_fit\n",
      "    self._probB, self.fit_status_ = libsvm.fit(\n",
      "  File \"sklearn\\svm\\_libsvm.pyx\", line 176, in sklearn.svm._libsvm.fit\n",
      "ValueError: 'linea' is not in list\n",
      "\n",
      "  warnings.warn(\"Estimator fit failed. The score on this train-test\"\n",
      "C:\\Users\\KD\\AppData\\Roaming\\Python\\Python39\\site-packages\\sklearn\\model_selection\\_validation.py:615: FitFailedWarning: Estimator fit failed. The score on this train-test partition for these parameters will be set to nan. Details: \n",
      "Traceback (most recent call last):\n",
      "  File \"C:\\Users\\KD\\AppData\\Roaming\\Python\\Python39\\site-packages\\sklearn\\model_selection\\_validation.py\", line 598, in _fit_and_score\n",
      "    estimator.fit(X_train, y_train, **fit_params)\n",
      "  File \"C:\\Users\\KD\\AppData\\Roaming\\Python\\Python39\\site-packages\\sklearn\\svm\\_base.py\", line 226, in fit\n",
      "    fit(X, y, sample_weight, solver_type, kernel, random_seed=seed)\n",
      "  File \"C:\\Users\\KD\\AppData\\Roaming\\Python\\Python39\\site-packages\\sklearn\\svm\\_base.py\", line 277, in _dense_fit\n",
      "    self._probB, self.fit_status_ = libsvm.fit(\n",
      "  File \"sklearn\\svm\\_libsvm.pyx\", line 176, in sklearn.svm._libsvm.fit\n",
      "ValueError: 'linea' is not in list\n",
      "\n",
      "  warnings.warn(\"Estimator fit failed. The score on this train-test\"\n",
      "C:\\Users\\KD\\AppData\\Roaming\\Python\\Python39\\site-packages\\sklearn\\model_selection\\_validation.py:615: FitFailedWarning: Estimator fit failed. The score on this train-test partition for these parameters will be set to nan. Details: \n",
      "Traceback (most recent call last):\n",
      "  File \"C:\\Users\\KD\\AppData\\Roaming\\Python\\Python39\\site-packages\\sklearn\\model_selection\\_validation.py\", line 598, in _fit_and_score\n",
      "    estimator.fit(X_train, y_train, **fit_params)\n",
      "  File \"C:\\Users\\KD\\AppData\\Roaming\\Python\\Python39\\site-packages\\sklearn\\svm\\_base.py\", line 226, in fit\n",
      "    fit(X, y, sample_weight, solver_type, kernel, random_seed=seed)\n",
      "  File \"C:\\Users\\KD\\AppData\\Roaming\\Python\\Python39\\site-packages\\sklearn\\svm\\_base.py\", line 277, in _dense_fit\n",
      "    self._probB, self.fit_status_ = libsvm.fit(\n",
      "  File \"sklearn\\svm\\_libsvm.pyx\", line 176, in sklearn.svm._libsvm.fit\n",
      "ValueError: 'linea' is not in list\n",
      "\n",
      "  warnings.warn(\"Estimator fit failed. The score on this train-test\"\n",
      "C:\\Users\\KD\\AppData\\Roaming\\Python\\Python39\\site-packages\\sklearn\\model_selection\\_validation.py:615: FitFailedWarning: Estimator fit failed. The score on this train-test partition for these parameters will be set to nan. Details: \n",
      "Traceback (most recent call last):\n",
      "  File \"C:\\Users\\KD\\AppData\\Roaming\\Python\\Python39\\site-packages\\sklearn\\model_selection\\_validation.py\", line 598, in _fit_and_score\n",
      "    estimator.fit(X_train, y_train, **fit_params)\n",
      "  File \"C:\\Users\\KD\\AppData\\Roaming\\Python\\Python39\\site-packages\\sklearn\\svm\\_base.py\", line 226, in fit\n",
      "    fit(X, y, sample_weight, solver_type, kernel, random_seed=seed)\n",
      "  File \"C:\\Users\\KD\\AppData\\Roaming\\Python\\Python39\\site-packages\\sklearn\\svm\\_base.py\", line 277, in _dense_fit\n",
      "    self._probB, self.fit_status_ = libsvm.fit(\n",
      "  File \"sklearn\\svm\\_libsvm.pyx\", line 176, in sklearn.svm._libsvm.fit\n",
      "ValueError: 'linea' is not in list\n",
      "\n",
      "  warnings.warn(\"Estimator fit failed. The score on this train-test\"\n",
      "C:\\Users\\KD\\AppData\\Roaming\\Python\\Python39\\site-packages\\sklearn\\model_selection\\_validation.py:615: FitFailedWarning: Estimator fit failed. The score on this train-test partition for these parameters will be set to nan. Details: \n",
      "Traceback (most recent call last):\n",
      "  File \"C:\\Users\\KD\\AppData\\Roaming\\Python\\Python39\\site-packages\\sklearn\\model_selection\\_validation.py\", line 598, in _fit_and_score\n",
      "    estimator.fit(X_train, y_train, **fit_params)\n",
      "  File \"C:\\Users\\KD\\AppData\\Roaming\\Python\\Python39\\site-packages\\sklearn\\svm\\_base.py\", line 226, in fit\n",
      "    fit(X, y, sample_weight, solver_type, kernel, random_seed=seed)\n",
      "  File \"C:\\Users\\KD\\AppData\\Roaming\\Python\\Python39\\site-packages\\sklearn\\svm\\_base.py\", line 277, in _dense_fit\n",
      "    self._probB, self.fit_status_ = libsvm.fit(\n",
      "  File \"sklearn\\svm\\_libsvm.pyx\", line 176, in sklearn.svm._libsvm.fit\n",
      "ValueError: 'linea' is not in list\n",
      "\n",
      "  warnings.warn(\"Estimator fit failed. The score on this train-test\"\n",
      "C:\\Users\\KD\\AppData\\Roaming\\Python\\Python39\\site-packages\\sklearn\\model_selection\\_validation.py:615: FitFailedWarning: Estimator fit failed. The score on this train-test partition for these parameters will be set to nan. Details: \n",
      "Traceback (most recent call last):\n",
      "  File \"C:\\Users\\KD\\AppData\\Roaming\\Python\\Python39\\site-packages\\sklearn\\model_selection\\_validation.py\", line 598, in _fit_and_score\n",
      "    estimator.fit(X_train, y_train, **fit_params)\n",
      "  File \"C:\\Users\\KD\\AppData\\Roaming\\Python\\Python39\\site-packages\\sklearn\\svm\\_base.py\", line 226, in fit\n",
      "    fit(X, y, sample_weight, solver_type, kernel, random_seed=seed)\n",
      "  File \"C:\\Users\\KD\\AppData\\Roaming\\Python\\Python39\\site-packages\\sklearn\\svm\\_base.py\", line 277, in _dense_fit\n",
      "    self._probB, self.fit_status_ = libsvm.fit(\n",
      "  File \"sklearn\\svm\\_libsvm.pyx\", line 176, in sklearn.svm._libsvm.fit\n",
      "ValueError: 'linea' is not in list\n",
      "\n",
      "  warnings.warn(\"Estimator fit failed. The score on this train-test\"\n",
      "C:\\Users\\KD\\AppData\\Roaming\\Python\\Python39\\site-packages\\sklearn\\model_selection\\_validation.py:615: FitFailedWarning: Estimator fit failed. The score on this train-test partition for these parameters will be set to nan. Details: \n",
      "Traceback (most recent call last):\n",
      "  File \"C:\\Users\\KD\\AppData\\Roaming\\Python\\Python39\\site-packages\\sklearn\\model_selection\\_validation.py\", line 598, in _fit_and_score\n",
      "    estimator.fit(X_train, y_train, **fit_params)\n",
      "  File \"C:\\Users\\KD\\AppData\\Roaming\\Python\\Python39\\site-packages\\sklearn\\svm\\_base.py\", line 226, in fit\n",
      "    fit(X, y, sample_weight, solver_type, kernel, random_seed=seed)\n",
      "  File \"C:\\Users\\KD\\AppData\\Roaming\\Python\\Python39\\site-packages\\sklearn\\svm\\_base.py\", line 277, in _dense_fit\n",
      "    self._probB, self.fit_status_ = libsvm.fit(\n",
      "  File \"sklearn\\svm\\_libsvm.pyx\", line 176, in sklearn.svm._libsvm.fit\n",
      "ValueError: 'linea' is not in list\n",
      "\n",
      "  warnings.warn(\"Estimator fit failed. The score on this train-test\"\n",
      "C:\\Users\\KD\\AppData\\Roaming\\Python\\Python39\\site-packages\\sklearn\\model_selection\\_validation.py:615: FitFailedWarning: Estimator fit failed. The score on this train-test partition for these parameters will be set to nan. Details: \n",
      "Traceback (most recent call last):\n",
      "  File \"C:\\Users\\KD\\AppData\\Roaming\\Python\\Python39\\site-packages\\sklearn\\model_selection\\_validation.py\", line 598, in _fit_and_score\n",
      "    estimator.fit(X_train, y_train, **fit_params)\n",
      "  File \"C:\\Users\\KD\\AppData\\Roaming\\Python\\Python39\\site-packages\\sklearn\\svm\\_base.py\", line 226, in fit\n",
      "    fit(X, y, sample_weight, solver_type, kernel, random_seed=seed)\n",
      "  File \"C:\\Users\\KD\\AppData\\Roaming\\Python\\Python39\\site-packages\\sklearn\\svm\\_base.py\", line 277, in _dense_fit\n",
      "    self._probB, self.fit_status_ = libsvm.fit(\n",
      "  File \"sklearn\\svm\\_libsvm.pyx\", line 176, in sklearn.svm._libsvm.fit\n",
      "ValueError: 'linea' is not in list\n",
      "\n",
      "  warnings.warn(\"Estimator fit failed. The score on this train-test\"\n",
      "C:\\Users\\KD\\AppData\\Roaming\\Python\\Python39\\site-packages\\sklearn\\model_selection\\_validation.py:615: FitFailedWarning: Estimator fit failed. The score on this train-test partition for these parameters will be set to nan. Details: \n",
      "Traceback (most recent call last):\n",
      "  File \"C:\\Users\\KD\\AppData\\Roaming\\Python\\Python39\\site-packages\\sklearn\\model_selection\\_validation.py\", line 598, in _fit_and_score\n",
      "    estimator.fit(X_train, y_train, **fit_params)\n",
      "  File \"C:\\Users\\KD\\AppData\\Roaming\\Python\\Python39\\site-packages\\sklearn\\svm\\_base.py\", line 226, in fit\n",
      "    fit(X, y, sample_weight, solver_type, kernel, random_seed=seed)\n",
      "  File \"C:\\Users\\KD\\AppData\\Roaming\\Python\\Python39\\site-packages\\sklearn\\svm\\_base.py\", line 277, in _dense_fit\n",
      "    self._probB, self.fit_status_ = libsvm.fit(\n",
      "  File \"sklearn\\svm\\_libsvm.pyx\", line 176, in sklearn.svm._libsvm.fit\n",
      "ValueError: 'linea' is not in list\n",
      "\n",
      "  warnings.warn(\"Estimator fit failed. The score on this train-test\"\n",
      "C:\\Users\\KD\\AppData\\Roaming\\Python\\Python39\\site-packages\\sklearn\\model_selection\\_search.py:922: UserWarning: One or more of the test scores are non-finite: [0.88277415        nan 0.88277415        nan 0.88277415        nan\n",
      " 0.95801918        nan 0.95801918        nan 0.95801918        nan\n",
      " 0.97032755        nan 0.97032755        nan 0.97032755        nan]\n",
      "  warnings.warn(\n"
     ]
    }
   ],
   "source": [
    "result = []\n",
    "\n",
    "for model_name, x in models_param.items():\n",
    "    clf = GridSearchCV(x['model'],x['params'],cv=4,return_train_score=False)\n",
    "    clf.fit(x_train,y_train)\n",
    "   \n",
    "    result.append({'model':model_name,\n",
    "                   'best_score':clf.best_score_,\n",
    "                   'best_param':clf.best_params_ })"
   ]
  },
  {
   "cell_type": "code",
   "execution_count": 75,
   "id": "f5a42476",
   "metadata": {},
   "outputs": [
    {
     "data": {
      "text/html": [
       "<div>\n",
       "<style scoped>\n",
       "    .dataframe tbody tr th:only-of-type {\n",
       "        vertical-align: middle;\n",
       "    }\n",
       "\n",
       "    .dataframe tbody tr th {\n",
       "        vertical-align: top;\n",
       "    }\n",
       "\n",
       "    .dataframe thead th {\n",
       "        text-align: right;\n",
       "    }\n",
       "</style>\n",
       "<table border=\"1\" class=\"dataframe\">\n",
       "  <thead>\n",
       "    <tr style=\"text-align: right;\">\n",
       "      <th></th>\n",
       "      <th>model</th>\n",
       "      <th>best_score</th>\n",
       "      <th>best_param</th>\n",
       "    </tr>\n",
       "  </thead>\n",
       "  <tbody>\n",
       "    <tr>\n",
       "      <th>0</th>\n",
       "      <td>regression</td>\n",
       "      <td>0.080261</td>\n",
       "      <td>{'n_jobs': 1}</td>\n",
       "    </tr>\n",
       "    <tr>\n",
       "      <th>1</th>\n",
       "      <td>knn</td>\n",
       "      <td>0.910273</td>\n",
       "      <td>{'n_jobs': 1, 'n_neighbors': 5, 'p': 1}</td>\n",
       "    </tr>\n",
       "    <tr>\n",
       "      <th>2</th>\n",
       "      <td>decision_tree</td>\n",
       "      <td>0.971050</td>\n",
       "      <td>{'max_depth': 10, 'min_samples_split': 2}</td>\n",
       "    </tr>\n",
       "    <tr>\n",
       "      <th>3</th>\n",
       "      <td>svm</td>\n",
       "      <td>0.970328</td>\n",
       "      <td>{'C': 5, 'degree': 1, 'kernel': 'rbf'}</td>\n",
       "    </tr>\n",
       "  </tbody>\n",
       "</table>\n",
       "</div>"
      ],
      "text/plain": [
       "           model  best_score                                 best_param\n",
       "0     regression    0.080261                              {'n_jobs': 1}\n",
       "1            knn    0.910273    {'n_jobs': 1, 'n_neighbors': 5, 'p': 1}\n",
       "2  decision_tree    0.971050  {'max_depth': 10, 'min_samples_split': 2}\n",
       "3            svm    0.970328     {'C': 5, 'degree': 1, 'kernel': 'rbf'}"
      ]
     },
     "execution_count": 75,
     "metadata": {},
     "output_type": "execute_result"
    }
   ],
   "source": [
    "best_model = pd.DataFrame(result)\n",
    "best_model"
   ]
  },
  {
   "cell_type": "markdown",
   "id": "bf9e1c20",
   "metadata": {},
   "source": [
    "## Fom this algoithm we acan say that decision tree is best model or ou datasets"
   ]
  },
  {
   "cell_type": "markdown",
   "id": "0d4e02d2",
   "metadata": {},
   "source": [
    "## and we also get specific parameters for that"
   ]
  }
 ],
 "metadata": {
  "kernelspec": {
   "display_name": "Python 3",
   "language": "python",
   "name": "python3"
  },
  "language_info": {
   "codemirror_mode": {
    "name": "ipython",
    "version": 3
   },
   "file_extension": ".py",
   "mimetype": "text/x-python",
   "name": "python",
   "nbconvert_exporter": "python",
   "pygments_lexer": "ipython3",
   "version": "3.9.4"
  }
 },
 "nbformat": 4,
 "nbformat_minor": 5
}
